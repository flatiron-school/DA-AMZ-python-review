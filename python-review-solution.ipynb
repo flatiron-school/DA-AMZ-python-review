{
 "cells": [
  {
   "cell_type": "markdown",
   "metadata": {
    "toc": true
   },
   "source": [
    "# Data Manipulation in Python"
   ]
  },
  {
   "cell_type": "markdown",
   "metadata": {
    "hidden": true
   },
   "source": [
    "## Objectives\n",
    "\n",
    "- Construct list and dictionary comprehensions\n",
    "- Extract data from nested data structures\n",
    "- Write functions to transform data"
   ]
  },
  {
   "cell_type": "markdown",
   "metadata": {},
   "source": [
    "Let's review some python data manipulation... with NBA data!\n",
    "\n",
    "![nba finals image from ESPN](https://a.espncdn.com/photo/2022/0408/nba_playoff-preview_16x9_608x342.jpg)"
   ]
  },
  {
   "cell_type": "markdown",
   "metadata": {
    "heading_collapsed": true
   },
   "source": [
    "## PythonLists"
   ]
  },
  {
   "cell_type": "markdown",
   "metadata": {
    "hidden": true
   },
   "source": [
    "### List Methods\n",
    "\n",
    "Here are a few common list methods:\n",
    "\n",
    "- `.append()`: adds the input element to the end of a list\n",
    "- `.pop()`: removes and returns the element with input index from the list\n",
    "- `.extend()`: adds the elements in the input iterable to the end of a list\n",
    "- `.index()`: returns the first place in a list where the argument is found\n",
    "- `.remove()`: removes element by value\n",
    "- `.count()`: returns the number of occurrences of the input element in a list\n",
    "\n",
    "Let's practice with a few!"
   ]
  },
  {
   "cell_type": "markdown",
   "metadata": {},
   "source": [
    "### Create Our NBA Team Roster\n",
    "\n",
    "In a perfect world, which four teams would you have in the NBA semi-finals?\n",
    "\n",
    "I've provided a list of NBA teams below. Let's create our dream list! Pick 4 teams you'd like to be in your semi-finals, and put those in your `nba_teams` list:\n",
    "\n",
    "\n",
    "```\n",
    "['Dallas Mavericks', 'Orlando Magic', 'San Antonio Spurs', 'Denver Nuggets', 'Brooklyn Nets', 'Washington Wizards', 'Golden State Warriors', 'Los Angeles Clippers', 'Los Angeles Lakers', 'Memphis Grizzlies', 'Milwaukee Bucks', 'Phoenix Suns', 'Miami Heat', 'Indiana Pacers', 'Sacremento Kings', 'Detroit Pistons', 'New York Knicks', 'Portland Trail Blazers', 'Oklahoma City Thunder', 'Cleveland Cavaliers', 'Toronto Raptors', 'New Orleans Pelicans', 'Charlotte Hornets', 'Atlanta Hawks', 'Minnesota Timberwolves', 'Boston Celtics', 'Houston Rockets', 'Chicago Bulls', 'Utah Jazz', 'Philadelphia 76ers']\n",
    "```\n",
    "\n",
    "(don't know or care anything about the NBA? no worries, just pick four at random, or make some up!)"
   ]
  },
  {
   "cell_type": "code",
   "execution_count": 1,
   "metadata": {},
   "outputs": [],
   "source": [
    "# Replace None with code to create your list\n",
    "nba_teams = [\n",
    "    'Boston Celtics',\n",
    "    'Miami Heat',\n",
    "    'Houston Rockets',\n",
    "    'Golden State Warriors'\n",
    "]"
   ]
  },
  {
   "cell_type": "code",
   "execution_count": 2,
   "metadata": {},
   "outputs": [
    {
     "data": {
      "text/plain": [
       "['Boston Celtics', 'Miami Heat', 'Houston Rockets', 'Golden State Warriors']"
      ]
     },
     "execution_count": 2,
     "metadata": {},
     "output_type": "execute_result"
    }
   ],
   "source": [
    "# Check the contents of your list\n",
    "nba_teams"
   ]
  },
  {
   "cell_type": "markdown",
   "metadata": {},
   "source": [
    "Since lists are indexed, you can both access elements using their index number and access slices of lists using index numbers."
   ]
  },
  {
   "cell_type": "code",
   "execution_count": 3,
   "metadata": {},
   "outputs": [
    {
     "data": {
      "text/plain": [
       "'Boston Celtics'"
      ]
     },
     "execution_count": 3,
     "metadata": {},
     "output_type": "execute_result"
    }
   ],
   "source": [
    "# Access the first, aka zero-th, element of your list\n",
    "nba_teams[0]"
   ]
  },
  {
   "cell_type": "code",
   "execution_count": 4,
   "metadata": {},
   "outputs": [
    {
     "data": {
      "text/plain": [
       "['Miami Heat', 'Houston Rockets']"
      ]
     },
     "execution_count": 4,
     "metadata": {},
     "output_type": "execute_result"
    }
   ],
   "source": [
    "# Now access a range\n",
    "nba_teams[1:3]"
   ]
  },
  {
   "cell_type": "markdown",
   "metadata": {},
   "source": [
    "## For Loops"
   ]
  },
  {
   "cell_type": "markdown",
   "metadata": {},
   "source": [
    "What if we wanted to remove spaces from each of the team names? Whenever we want to access each element from a collection of elements or iterable, we should consider using some kind of loop - here, let's use a `for` loop to remove the spaces from each team name."
   ]
  },
  {
   "cell_type": "code",
   "execution_count": 5,
   "metadata": {},
   "outputs": [
    {
     "data": {
      "text/plain": [
       "'BostonCeltics'"
      ]
     },
     "execution_count": 5,
     "metadata": {},
     "output_type": "execute_result"
    }
   ],
   "source": [
    "# Always easier to test on a single element first\n",
    "# Try removing the spaces from nba_team[0]\n",
    "nba_teams[0].replace(\" \", \"\")"
   ]
  },
  {
   "cell_type": "code",
   "execution_count": 6,
   "metadata": {},
   "outputs": [],
   "source": [
    "# Now that we can do one, let's try with a loop!\n",
    "# Create a new list, nba_team_nospace, with team names without spaces\n",
    "nba_team_nospace = []\n",
    "\n",
    "for team in nba_teams:\n",
    "    team_nospace = team.replace(\" \", \"\")\n",
    "    nba_team_nospace.append(team_nospace)"
   ]
  },
  {
   "cell_type": "code",
   "execution_count": 7,
   "metadata": {},
   "outputs": [
    {
     "data": {
      "text/plain": [
       "['BostonCeltics', 'MiamiHeat', 'HoustonRockets', 'GoldenStateWarriors']"
      ]
     },
     "execution_count": 7,
     "metadata": {},
     "output_type": "execute_result"
    }
   ],
   "source": [
    "# Check your work\n",
    "nba_team_nospace"
   ]
  },
  {
   "cell_type": "markdown",
   "metadata": {},
   "source": [
    "### List Comprehension\n",
    "\n",
    "**Neat trick!** You can write one-line for loops!\n",
    "\n",
    "List comprehensions are especially useful if you'd like to loop over something and output a new list - just like we did above!\n",
    "\n",
    "The syntax is: `[f(x) for x in <iterable> if <condition>]`"
   ]
  },
  {
   "cell_type": "code",
   "execution_count": 8,
   "metadata": {},
   "outputs": [
    {
     "data": {
      "text/plain": [
       "['BostonCeltics', 'MiamiHeat', 'HoustonRockets', 'GoldenStateWarriors']"
      ]
     },
     "execution_count": 8,
     "metadata": {},
     "output_type": "execute_result"
    }
   ],
   "source": [
    "# Change our loop to a list comprehension\n",
    "[team.replace(\" \", \"\") for team in nba_teams]"
   ]
  },
  {
   "cell_type": "markdown",
   "metadata": {},
   "source": [
    "Do you _need_ to use list comprehension for this? Nope! But list comprehensions are more efficient: The syntax is often simpler, and they're also faster. Also, you'll see them in other people's code, so you'll have to know how to work with them!"
   ]
  },
  {
   "cell_type": "markdown",
   "metadata": {
    "heading_collapsed": true
   },
   "source": [
    "# Dictionaries"
   ]
  },
  {
   "cell_type": "markdown",
   "metadata": {
    "heading_collapsed": true,
    "hidden": true
   },
   "source": [
    "## Dictionary Methods"
   ]
  },
  {
   "cell_type": "markdown",
   "metadata": {
    "hidden": true
   },
   "source": [
    "Make sure you're comfortable with the following dictionary methods:\n",
    "\n",
    "- `.keys()`: returns an array of the dictionary's keys\n",
    "- `.values()`: returns an array of the dictionary's values\n",
    "- `.items()`: returns an array of key-value tuples"
   ]
  },
  {
   "cell_type": "markdown",
   "metadata": {},
   "source": [
    "What if we wanted to know the locations of our teams? Let's update our dream teams to be a dictionary, named `nba_dict`, where the key is the team name, and the value is the state where that team is located.\n",
    "\n",
    "Many ways to do this - let's use a `.join()`! "
   ]
  },
  {
   "cell_type": "code",
   "execution_count": 9,
   "metadata": {},
   "outputs": [
    {
     "data": {
      "text/plain": [
       "['Boston Celtics', 'Miami Heat', 'Houston Rockets', 'Golden State Warriors']"
      ]
     },
     "execution_count": 9,
     "metadata": {},
     "output_type": "execute_result"
    }
   ],
   "source": [
    "nba_teams"
   ]
  },
  {
   "cell_type": "code",
   "execution_count": 10,
   "metadata": {},
   "outputs": [],
   "source": [
    "# Joins need two lists\n",
    "# So, creating my state list to match my teams list\n",
    "state_list = ['Massachusetts', 'Florida', 'Texas', 'California']"
   ]
  },
  {
   "cell_type": "code",
   "execution_count": 11,
   "metadata": {},
   "outputs": [],
   "source": [
    "# Now, create your nba_dict\n",
    "nba_dict = dict(zip(nba_teams, state_list))"
   ]
  },
  {
   "cell_type": "code",
   "execution_count": 12,
   "metadata": {},
   "outputs": [
    {
     "data": {
      "text/plain": [
       "{'Boston Celtics': 'Massachusetts',\n",
       " 'Miami Heat': 'Florida',\n",
       " 'Houston Rockets': 'Texas',\n",
       " 'Golden State Warriors': 'California'}"
      ]
     },
     "execution_count": 12,
     "metadata": {},
     "output_type": "execute_result"
    }
   ],
   "source": [
    "# Check your work\n",
    "nba_dict"
   ]
  },
  {
   "cell_type": "markdown",
   "metadata": {},
   "source": [
    "Let's practice more loops: write a loop that prints the team name if that team is based in Texas (or, pick a state that's in your dictionary!)"
   ]
  },
  {
   "cell_type": "code",
   "execution_count": 13,
   "metadata": {},
   "outputs": [
    {
     "name": "stdout",
     "output_type": "stream",
     "text": [
      "Houston Rockets\n"
     ]
    }
   ],
   "source": [
    "# Loop over your dictionary\n",
    "# Note that we want to access both the key and the value...\n",
    "for key, value in nba_dict.items():\n",
    "    if value == 'Texas':\n",
    "        print(key)"
   ]
  },
  {
   "cell_type": "markdown",
   "metadata": {},
   "source": [
    "Now let's make a new dictionary, `tx_dict` (or change to whatever state you used above), where the key is the first word of the team name, and the value is the last word of the team name in all capital letters:"
   ]
  },
  {
   "cell_type": "code",
   "execution_count": 14,
   "metadata": {},
   "outputs": [],
   "source": [
    "# Create your tx_dict\n",
    "# Key is the state, value is the last word in all caps\n",
    "tx_dict = {}\n",
    "\n",
    "for key, value in nba_dict.items():\n",
    "    if value == 'Texas':\n",
    "        tx_dict[key.split(\" \")[0]] = key.split(\" \")[-1].upper()"
   ]
  },
  {
   "cell_type": "code",
   "execution_count": 15,
   "metadata": {},
   "outputs": [
    {
     "data": {
      "text/plain": [
       "{'Houston': 'ROCKETS'}"
      ]
     },
     "execution_count": 15,
     "metadata": {},
     "output_type": "execute_result"
    }
   ],
   "source": [
    "# Check your work\n",
    "tx_dict"
   ]
  },
  {
   "cell_type": "markdown",
   "metadata": {},
   "source": [
    "### Dictionary Comprehension\n",
    "\n",
    "Guess what! Just like there's list comprehension to write one-line for loops to output a list, there's the same for dictionaries! This can allow you to take one dictionary and transform it into another.\n",
    "\n",
    "The syntax is: `{f(key):f(value) for (key,value) in <dictonary>.items() if <condition>}`\n"
   ]
  },
  {
   "cell_type": "code",
   "execution_count": 16,
   "metadata": {},
   "outputs": [
    {
     "data": {
      "text/plain": [
       "{'Houston': 'ROCKETS'}"
      ]
     },
     "execution_count": 16,
     "metadata": {},
     "output_type": "execute_result"
    }
   ],
   "source": [
    "# Change our loop to a dictionary comprehension\n",
    "{key.split(\" \")[0]: key.split(\" \")[-1].upper() for key, value in nba_dict.items() if value == 'Texas'}"
   ]
  },
  {
   "cell_type": "markdown",
   "metadata": {},
   "source": [
    "As you might note, this can get really long! Up to you how much you want to write in one line of code... typical max would be 80 characters, FYI."
   ]
  },
  {
   "cell_type": "code",
   "execution_count": 17,
   "metadata": {},
   "outputs": [
    {
     "data": {
      "text/plain": [
       "{'Team 1': 'Boston Celtics',\n",
       " 'Team 2': 'Miami Heat',\n",
       " 'Team 3': 'Houston Rockets',\n",
       " 'Team 4': 'Golden State Warriors'}"
      ]
     },
     "execution_count": 17,
     "metadata": {},
     "output_type": "execute_result"
    }
   ],
   "source": [
    "# You can get creative with it too!\n",
    "{f\"Team {x+1}\": list(nba_dict.keys())[x] for x in range(len((nba_dict.values())))}"
   ]
  },
  {
   "cell_type": "markdown",
   "metadata": {},
   "source": [
    "## Nesting"
   ]
  },
  {
   "cell_type": "markdown",
   "metadata": {},
   "source": [
    "There is more to a team beyond the team name and the state they're based out of. Let's play around with this new, nested dictionary, `nba_2022`, where the keys are the eight teams that made it to the semi-finals this year, and the value is a dictionary with details like the state, division, and location."
   ]
  },
  {
   "cell_type": "code",
   "execution_count": 18,
   "metadata": {},
   "outputs": [],
   "source": [
    "nba_2022 = {\n",
    "    'Miami Heat':{\n",
    "        'State': 'Florida',\n",
    "        'Division': 'East',\n",
    "        'Lat': 25.781389,\n",
    "        'Long': -80.188056\n",
    "    },\n",
    "    'Philadelphia 76ers':{\n",
    "         'State': 'Pennsylvania',\n",
    "         'Division': 'East',\n",
    "         'Lat': 39.901111,\n",
    "         'Long': -75.171944\n",
    "    },\n",
    "    'Milwaukee Bucks':{\n",
    "        'State': 'Wisconsin',\n",
    "        'Division': 'East',\n",
    "        'Lat': 43.045028,\n",
    "        'Long': -87.918167\n",
    "    },\n",
    "    'Boston Celtics':{\n",
    "        'State': 'Massachusetts',\n",
    "        'Division': 'East',\n",
    "        'Lat': 42.366303,\n",
    "        'Long': -71.062228\n",
    "    },\n",
    "    'Phoenix Suns':{\n",
    "        'State': 'Arizona',\n",
    "        'Division': 'West',\n",
    "        'Lat': 33.445833,\n",
    "        'Long': -112.071389\n",
    "    },\n",
    "    'Dallas Mavericks': {\n",
    "        'State': 'Texas',\n",
    "        'Division': 'West',\n",
    "        'Lat': 32.790556,\n",
    "        'Long': -96.810278\n",
    "    },\n",
    "    'Golden State Warriors':{\n",
    "        'State': 'California',\n",
    "        'Division': 'West',\n",
    "        'Lat': 37.768056,\n",
    "        'Long': -122.3875\n",
    "    },\n",
    "    'Memphis Grizzlies':{\n",
    "        'State': 'Tennessee',\n",
    "        'Division': 'West',\n",
    "        'Lat': 35.138333,\n",
    "        'Long': -90.050556\n",
    "    }\n",
    "} "
   ]
  },
  {
   "cell_type": "markdown",
   "metadata": {},
   "source": [
    "Now, if we wanted to check the team names, we could check the keys of this dictionary:"
   ]
  },
  {
   "cell_type": "code",
   "execution_count": 19,
   "metadata": {},
   "outputs": [
    {
     "data": {
      "text/plain": [
       "dict_keys(['Miami Heat', 'Philadelphia 76ers', 'Milwaukee Bucks', 'Boston Celtics', 'Phoenix Suns', 'Dallas Mavericks', 'Golden State Warriors', 'Memphis Grizzlies'])"
      ]
     },
     "execution_count": 19,
     "metadata": {},
     "output_type": "execute_result"
    }
   ],
   "source": [
    "# Check out the keys of nba_2022\n",
    "nba_2022.keys()"
   ]
  },
  {
   "cell_type": "markdown",
   "metadata": {},
   "source": [
    "How would we access one of those Divisions?"
   ]
  },
  {
   "cell_type": "code",
   "execution_count": 20,
   "metadata": {},
   "outputs": [
    {
     "data": {
      "text/plain": [
       "'West'"
      ]
     },
     "execution_count": 20,
     "metadata": {},
     "output_type": "execute_result"
    }
   ],
   "source": [
    "# Try for the Memphis Grizzlies\n",
    "nba_2022['Memphis Grizzlies']['Division']"
   ]
  },
  {
   "cell_type": "markdown",
   "metadata": {},
   "source": [
    "Now let's write a loop that prints out the state for each team:"
   ]
  },
  {
   "cell_type": "code",
   "execution_count": 21,
   "metadata": {},
   "outputs": [
    {
     "name": "stdout",
     "output_type": "stream",
     "text": [
      "Florida\n",
      "Pennsylvania\n",
      "Wisconsin\n",
      "Massachusetts\n",
      "Arizona\n",
      "Texas\n",
      "California\n",
      "Tennessee\n"
     ]
    }
   ],
   "source": [
    "# Print out each team's state using a loop\n",
    "for team_details in nba_2022.values():\n",
    "    print(team_details['State'])"
   ]
  },
  {
   "cell_type": "markdown",
   "metadata": {},
   "source": [
    "Just as we can put lists and dictionaries inside of other lists and dictionaries, we can also put comprehensions inside of other comprehensions!"
   ]
  },
  {
   "cell_type": "code",
   "execution_count": 22,
   "metadata": {
    "scrolled": true
   },
   "outputs": [
    {
     "data": {
      "text/plain": [
       "{\"Miami Heat's Lat & Long\": [25.781389, -80.188056],\n",
       " \"Philadelphia 76ers's Lat & Long\": [39.901111, -75.171944],\n",
       " \"Milwaukee Bucks's Lat & Long\": [43.045028, -87.918167],\n",
       " \"Boston Celtics's Lat & Long\": [42.366303, -71.062228],\n",
       " \"Phoenix Suns's Lat & Long\": [33.445833, -112.071389],\n",
       " \"Dallas Mavericks's Lat & Long\": [32.790556, -96.810278],\n",
       " \"Golden State Warriors's Lat & Long\": [37.768056, -122.3875],\n",
       " \"Memphis Grizzlies's Lat & Long\": [35.138333, -90.050556]}"
      ]
     },
     "execution_count": 22,
     "metadata": {},
     "output_type": "execute_result"
    }
   ],
   "source": [
    "# An example of nested comprehensions\n",
    "{f\"{name}'s Lat & Long\": \n",
    "    [v for k,v in details.items() if \"L\" in k] for name, details in nba_2022.items()}"
   ]
  },
  {
   "cell_type": "code",
   "execution_count": 23,
   "metadata": {},
   "outputs": [
    {
     "data": {
      "text/plain": [
       "{\"Miami Heat's Lat & Long\": [25.781389, -80.188056],\n",
       " \"Philadelphia 76ers's Lat & Long\": [39.901111, -75.171944],\n",
       " \"Milwaukee Bucks's Lat & Long\": [43.045028, -87.918167],\n",
       " \"Boston Celtics's Lat & Long\": [42.366303, -71.062228],\n",
       " \"Phoenix Suns's Lat & Long\": [33.445833, -112.071389],\n",
       " \"Dallas Mavericks's Lat & Long\": [32.790556, -96.810278],\n",
       " \"Golden State Warriors's Lat & Long\": [37.768056, -122.3875],\n",
       " \"Memphis Grizzlies's Lat & Long\": [35.138333, -90.050556]}"
      ]
     },
     "execution_count": 23,
     "metadata": {},
     "output_type": "execute_result"
    }
   ],
   "source": [
    "# But remember ... it's okay to easier to write this out as a for loop\n",
    "# THEN you can condense into a comprehension more easily!\n",
    "\n",
    "lat_long_dict = {}\n",
    "\n",
    "for name, details in nba_2022.items():\n",
    "    loc_list = []    \n",
    "    for key, detail in details.items():        \n",
    "        if 'L' in key:\n",
    "            loc_list.append(detail)\n",
    "    lat_long_dict[f\"{name}'s Lat & Long\"] = loc_list\n",
    "    \n",
    "# Check it\n",
    "lat_long_dict"
   ]
  },
  {
   "cell_type": "markdown",
   "metadata": {},
   "source": [
    "## Functions"
   ]
  },
  {
   "cell_type": "markdown",
   "metadata": {
    "heading_collapsed": true
   },
   "source": [
    "This aspect of Python is _incredibly_ useful! Writing your own functions can save you a TON of work - by _automating_ it."
   ]
  },
  {
   "cell_type": "markdown",
   "metadata": {
    "heading_collapsed": true
   },
   "source": [
    "### Creating Functions"
   ]
  },
  {
   "cell_type": "markdown",
   "metadata": {
    "heading_collapsed": true
   },
   "source": [
    "The first line will read:\n",
    "\n",
    "```python\n",
    "\n",
    "'def' function_name() ':'\n",
    "\n",
    "```\n",
    "\n",
    "Any arguments to the function will go in the parentheses, and you can set default arguments in those parentheses as well."
   ]
  },
  {
   "cell_type": "markdown",
   "metadata": {},
   "source": [
    "Let's write a function that will take in both a nested dictionary of bento orders and the name of an ingredient type, which outputs a tuple with each person's name and the ingredients that match that type!"
   ]
  },
  {
   "cell_type": "code",
   "execution_count": 26,
   "metadata": {},
   "outputs": [],
   "source": [
    "def find_team_details(nested_dictionary, detail_desc='State'):\n",
    "    '''\n",
    "    Function that takes in a dictionary, where team names are keys and values are\n",
    "    dictionaries of details on that team, and then checks which keys in\n",
    "    the nested team dictionary match the provided string. The output is a list\n",
    "    of tuples, with each team's name and a list of matched details.\n",
    "    \n",
    "    Inputs:\n",
    "        nested_dictionary : dictionary\n",
    "        detail_desc : string (default is 'State')\n",
    "        \n",
    "    Outputs:\n",
    "        output_list : tuple\n",
    "    '''\n",
    "    \n",
    "    output_list = []\n",
    "    \n",
    "    for name, details in nested_dictionary.items():\n",
    "        team_list = []    \n",
    "        for key, detail in details.items():        \n",
    "            if detail_desc in key:\n",
    "                team_list.append(detail)\n",
    "        output_list.append((name, team_list))\n",
    "                \n",
    "    return output_list"
   ]
  },
  {
   "cell_type": "code",
   "execution_count": 29,
   "metadata": {},
   "outputs": [
    {
     "data": {
      "text/plain": [
       "[('Miami Heat', [25.781389, -80.188056]),\n",
       " ('Philadelphia 76ers', [39.901111, -75.171944]),\n",
       " ('Milwaukee Bucks', [43.045028, -87.918167]),\n",
       " ('Boston Celtics', [42.366303, -71.062228]),\n",
       " ('Phoenix Suns', [33.445833, -112.071389]),\n",
       " ('Dallas Mavericks', [32.790556, -96.810278]),\n",
       " ('Golden State Warriors', [37.768056, -122.3875]),\n",
       " ('Memphis Grizzlies', [35.138333, -90.050556])]"
      ]
     },
     "execution_count": 29,
     "metadata": {},
     "output_type": "execute_result"
    }
   ],
   "source": [
    "# Try it!\n",
    "output = find_team_details(nba_2022, 'L')\n",
    "output"
   ]
  },
  {
   "cell_type": "code",
   "execution_count": 30,
   "metadata": {},
   "outputs": [
    {
     "data": {
      "text/plain": [
       "tuple"
      ]
     },
     "execution_count": 30,
     "metadata": {},
     "output_type": "execute_result"
    }
   ],
   "source": [
    "type(output[0])"
   ]
  },
  {
   "cell_type": "markdown",
   "metadata": {
    "heading_collapsed": true,
    "hidden": true
   },
   "source": [
    "---\n",
    "\n",
    "# Extra Practice Exercises"
   ]
  },
  {
   "cell_type": "markdown",
   "metadata": {
    "hidden": true
   },
   "source": [
    "1) Use a list comprehension to extract the odd numbers from this set (`nums`):"
   ]
  },
  {
   "cell_type": "code",
   "execution_count": null,
   "metadata": {
    "hidden": true
   },
   "outputs": [],
   "source": [
    "nums = set(range(1000))"
   ]
  },
  {
   "cell_type": "code",
   "execution_count": null,
   "metadata": {},
   "outputs": [],
   "source": [
    "# Your code here"
   ]
  },
  {
   "cell_type": "markdown",
   "metadata": {
    "hidden": true
   },
   "source": [
    "<details>\n",
    "    <summary>Answer\n",
    "    </summary>\n",
    "    <code>[num for num in nums if num % 2 == 1]</code>\n",
    "    </details>"
   ]
  },
  {
   "cell_type": "markdown",
   "metadata": {
    "hidden": true
   },
   "source": [
    "2) Use a list comprehension to take the first character of each string from the following list `words`:"
   ]
  },
  {
   "cell_type": "code",
   "execution_count": null,
   "metadata": {
    "hidden": true
   },
   "outputs": [],
   "source": [
    "words = ['carbon', 'osmium', 'mercury', 'potassium', 'rhenium', 'einsteinium',\n",
    "        'hydrogen', 'erbium', 'nitrogen', 'sulfur', 'iodine', 'oxygen', 'niobium']"
   ]
  },
  {
   "cell_type": "code",
   "execution_count": null,
   "metadata": {},
   "outputs": [],
   "source": [
    "# Your code here"
   ]
  },
  {
   "cell_type": "markdown",
   "metadata": {
    "hidden": true
   },
   "source": [
    "<details>\n",
    "    <summary>Answer\n",
    "    </summary>\n",
    "    <code>[word[0] for word in words]</code>\n",
    "    </details>"
   ]
  },
  {
   "cell_type": "markdown",
   "metadata": {
    "hidden": true
   },
   "source": [
    "3) Use a list comprehension to build a list of all the names that start with 'R' from the following `names` list. Add a '?' to the end of each name."
   ]
  },
  {
   "cell_type": "code",
   "execution_count": null,
   "metadata": {
    "hidden": true
   },
   "outputs": [],
   "source": [
    "names = ['Randy', 'Robert', 'Alex', 'Ranjit', 'Charlie', 'Richard', 'Ravdeep',\n",
    "        'Vimal', 'Wu', 'Nelson']"
   ]
  },
  {
   "cell_type": "code",
   "execution_count": null,
   "metadata": {},
   "outputs": [],
   "source": [
    "# Your code here"
   ]
  },
  {
   "cell_type": "markdown",
   "metadata": {
    "hidden": true
   },
   "source": [
    "<details>\n",
    "<summary>Answer\n",
    "    </summary>\n",
    "    <code>[name+'?' for name in names if name[0] == 'R']</code>\n",
    "    </details>"
   ]
  },
  {
   "cell_type": "markdown",
   "metadata": {
    "hidden": true
   },
   "source": [
    "4) From the `phone_nos` list below, make a list of dictionaries where the key is the person's name and the value is the person's home phone number."
   ]
  },
  {
   "cell_type": "code",
   "execution_count": null,
   "metadata": {
    "hidden": true
   },
   "outputs": [],
   "source": [
    "phone_nos = [{'name': 'greg', 'nums': {'home': 1234567, 'work': 7654321}},\n",
    "             {'name': 'max', 'nums': {'home': 9876543, 'work': 1010001}},\n",
    "             {'name': 'erin', 'nums': {'home': 3333333, 'work': 4444444}},\n",
    "             {'name': 'joél', 'nums': {'home': 2222222, 'work': 5555555}},\n",
    "             {'name': 'sean', 'nums': {'home': 9999999, 'work': 8888888}}]"
   ]
  },
  {
   "cell_type": "code",
   "execution_count": null,
   "metadata": {},
   "outputs": [],
   "source": [
    "# Your code here"
   ]
  },
  {
   "cell_type": "markdown",
   "metadata": {
    "hidden": true
   },
   "source": [
    "<details>\n",
    "    <summary>Answer</summary>\n",
    "    <code>[{item['name']: item['nums']['home']} for item in phone_nos]</code>\n",
    "    </details>"
   ]
  },
  {
   "cell_type": "markdown",
   "metadata": {
    "hidden": true
   },
   "source": [
    "5) Using this `customer` dictionary, build a dictionary where the customers' names are the keys and the movies they've bought are the values."
   ]
  },
  {
   "cell_type": "code",
   "execution_count": null,
   "metadata": {},
   "outputs": [],
   "source": [
    "customers = {\n",
    "    'bill': {'purchases': {'movies': ['Terminator', 'Elf'],\n",
    "                           'books': []},\n",
    "             'id': 1},\n",
    "    'dolph': {'purchases': {'movies': ['It Happened One Night'],\n",
    "                            'books': ['The Far Side Gallery']},\n",
    "              'id': 2},\n",
    "    'pat': {'purchases': {'movies': [],\n",
    "                          'books': ['Seinfeld and Philosophy', 'I Am a Bunny']},\n",
    "            'id': 3}\n",
    "}"
   ]
  },
  {
   "cell_type": "code",
   "execution_count": null,
   "metadata": {},
   "outputs": [],
   "source": [
    "# Your code here"
   ]
  },
  {
   "cell_type": "markdown",
   "metadata": {
    "hidden": true
   },
   "source": [
    "<details>\n",
    "    <summary>Answer</summary>\n",
    "    <code>{customer: customers[customer]['purchases']['movies'] for customer in customers.keys()}</code> <br/>\n",
    "    OR <br/>\n",
    "    <code>{k: v['purchases']['movies'] for k, v in customers.items()}</code>\n",
    "    </details>"
   ]
  },
  {
   "cell_type": "markdown",
   "metadata": {
    "hidden": true
   },
   "source": [
    "6) Build a function that will return $2^n$ for an input integer $n$."
   ]
  },
  {
   "cell_type": "code",
   "execution_count": null,
   "metadata": {},
   "outputs": [],
   "source": [
    "# Your code here"
   ]
  },
  {
   "cell_type": "markdown",
   "metadata": {
    "hidden": true
   },
   "source": [
    "<details>\n",
    "    <summary>Answer</summary>\n",
    "    <code>\n",
    "def expo(n):\n",
    "    return 2**n</code>\n",
    "    </details>"
   ]
  },
  {
   "cell_type": "markdown",
   "metadata": {
    "hidden": true
   },
   "source": [
    "7) Build a function that will take in a list of phone numbers as strings and return the same as integers, removing any parentheses ('(' and ')'), hyphens ('-'), and spaces."
   ]
  },
  {
   "cell_type": "code",
   "execution_count": null,
   "metadata": {},
   "outputs": [],
   "source": [
    "# Your code here"
   ]
  },
  {
   "cell_type": "markdown",
   "metadata": {
    "hidden": true
   },
   "source": [
    "<details>\n",
    "    <summary>Answer</summary>\n",
    "    <code>\n",
    "def int_phone(string_list):\n",
    "    return [int(string.replace('(', '').replace(')', '').replace('-', '').replace(' ', ''))\\\n",
    "    for string in string_list]</code>\n",
    "    </details>"
   ]
  },
  {
   "cell_type": "markdown",
   "metadata": {
    "hidden": true
   },
   "source": [
    "8) Build a function that returns the mode of a list of numbers."
   ]
  },
  {
   "cell_type": "code",
   "execution_count": null,
   "metadata": {},
   "outputs": [],
   "source": [
    "# Your code here"
   ]
  },
  {
   "cell_type": "markdown",
   "metadata": {
    "hidden": true
   },
   "source": [
    "<details>\n",
    "    <summary>Answer</summary>\n",
    "        <code>\n",
    "def mode(lst):\n",
    "    counts = {num: lst.count(num) for num in lst}\n",
    "    return [num for num in counts.keys() if counts[num] == max(counts.values())]</code>\n",
    "    </details>"
   ]
  }
 ],
 "metadata": {
  "kernelspec": {
   "display_name": "Python 3",
   "language": "python",
   "name": "python3"
  },
  "language_info": {
   "codemirror_mode": {
    "name": "ipython",
    "version": 3
   },
   "file_extension": ".py",
   "mimetype": "text/x-python",
   "name": "python",
   "nbconvert_exporter": "python",
   "pygments_lexer": "ipython3",
   "version": "3.8.5"
  },
  "toc": {
   "base_numbering": 1,
   "nav_menu": {},
   "number_sections": true,
   "sideBar": true,
   "skip_h1_title": false,
   "title_cell": "Table of Contents",
   "title_sidebar": "Contents",
   "toc_cell": true,
   "toc_position": {
    "height": "calc(100% - 180px)",
    "left": "10px",
    "top": "150px",
    "width": "384px"
   },
   "toc_section_display": true,
   "toc_window_display": true
  }
 },
 "nbformat": 4,
 "nbformat_minor": 2
}
